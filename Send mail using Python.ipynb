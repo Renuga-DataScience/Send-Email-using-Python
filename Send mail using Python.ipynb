{
 "cells": [
  {
   "cell_type": "markdown",
   "metadata": {},
   "source": [
    "# Send an Email using Python"
   ]
  },
  {
   "cell_type": "code",
   "execution_count": 3,
   "metadata": {},
   "outputs": [
    {
     "data": {
      "text/plain": [
       "(221, b'2.0.0 closing connection n2sm11915775pja.41 - gsmtp')"
      ]
     },
     "execution_count": 3,
     "metadata": {},
     "output_type": "execute_result"
    }
   ],
   "source": [
    "import smtplib\n",
    "server  = smtplib.SMTP_SSL(\"smtp.gmail.com\", 465)\n",
    "\n",
    "server.login(\"XXXX@gmail.com\", \"XXXX\")\n",
    "server.sendmail(\"XXXX@gmail.com\",\n",
    "                  \"XXXX@gmail.com\",\n",
    "                  \"Hi Renu this is HR from XXXX\")\n",
    "server.quit()"
   ]
  },
  {
   "cell_type": "markdown",
   "metadata": {},
   "source": [
    "# Send an Email with Attachment from your Gmail account using Python"
   ]
  },
  {
   "cell_type": "code",
   "execution_count": 4,
   "metadata": {},
   "outputs": [],
   "source": [
    "import email, smtplib, ssl\n",
    "\n",
    "from email import encoders\n",
    "from email.mime.text import MIMEText\n",
    "from email.mime.multipart import MIMEMultipart\n",
    "from email.mime.base import MIMEBase\n",
    "\n",
    "from_address = \"XXXX@gmail.com\"\n",
    "to_address = \"XXXX@gmail.com\"\n",
    "\n",
    "#password = input(\"Type your password and hit enter: \")\n",
    "password = \"XXXX\"\n",
    "subject = \"Email with an attachment using Python\"\n",
    "body = \"This is an email with attachment sent from Python\"\n",
    "\n",
    "# Create a multipart message and set headers\n",
    "message = MIMEMultipart()\n",
    "message[\"From\"] = from_address\n",
    "message['To'] = to_address\n",
    "message['Subject'] = subject\n",
    "\n",
    "# attach the body with the msg instance \n",
    "message.attach(MIMEText(body, \"plain\"))\n",
    "\n",
    "filename = \"document.pdf\"\n",
    "attachment = open(\"document.pdf\", \"rb\")\n",
    "\n",
    "part = MIMEBase(\"application\", \"octet-stream\") # Add file as application/octet-stream\n",
    "part.set_payload(attachment.read())            # Email client can usually download this automatically as attachment\n",
    "encoders.encode_base64(part)                   # Encode file in ASCII characters to send by email    \n",
    "\n",
    "part.add_header('Content-Disposition', \"attachment; filename= %s\" % filename) \n",
    "\n",
    "\n",
    "message.attach(part)        # Add attachment to message and convert message to string\n",
    "text = message.as_string()  # Converts the Multipart msg into a string \n",
    "\n",
    "\n",
    "# Log in to server using secure context and send email\n",
    "context = ssl.create_default_context()\n",
    "\n",
    "with smtplib.SMTP_SSL(\"smtp.gmail.com\", 465, context=context) as server:\n",
    "    server.login(from_address, password)\n",
    "    server.sendmail(from_address, to_address, text)\n"
   ]
  }
 ],
 "metadata": {
  "kernelspec": {
   "display_name": "Python 3",
   "language": "python",
   "name": "python3"
  },
  "language_info": {
   "codemirror_mode": {
    "name": "ipython",
    "version": 3
   },
   "file_extension": ".py",
   "mimetype": "text/x-python",
   "name": "python",
   "nbconvert_exporter": "python",
   "pygments_lexer": "ipython3",
   "version": "3.7.7"
  }
 },
 "nbformat": 4,
 "nbformat_minor": 4
}
